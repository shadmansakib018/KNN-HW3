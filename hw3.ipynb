{
  "nbformat": 4,
  "nbformat_minor": 0,
  "metadata": {
    "colab": {
      "provenance": []
    },
    "kernelspec": {
      "name": "python3",
      "display_name": "Python 3"
    },
    "language_info": {
      "name": "python"
    }
  },
  "cells": [
    {
      "cell_type": "code",
      "execution_count": 67,
      "metadata": {
        "id": "LWOnfnZWn2-o"
      },
      "outputs": [],
      "source": [
        "\"\"\"\n",
        "Shadman Sakib M03543624\n",
        "k is chosen by taking atleast less than the square root of the training samples\n",
        "\"\"\"\n",
        "import numpy as np\n",
        "import pandas as pd\n",
        "import math as m\n",
        "\n",
        "training_df = pd.read_csv(\"MNIST_train.csv\")\n",
        "testing_df = pd.read_csv(\"MNIST_test.csv\")"
      ]
    },
    {
      "cell_type": "code",
      "source": [
        "training_df.shape"
      ],
      "metadata": {
        "colab": {
          "base_uri": "https://localhost:8080/"
        },
        "id": "tSyLH-2NrvHp",
        "outputId": "5cb99a0d-0f79-4a2a-d802-d143630e415f"
      },
      "execution_count": 68,
      "outputs": [
        {
          "output_type": "execute_result",
          "data": {
            "text/plain": [
              "(949, 785)"
            ]
          },
          "metadata": {},
          "execution_count": 68
        }
      ]
    },
    {
      "cell_type": "code",
      "source": [
        "testing_df.shape"
      ],
      "metadata": {
        "colab": {
          "base_uri": "https://localhost:8080/"
        },
        "id": "OPjIxWGXr_7Q",
        "outputId": "2e67889e-a842-4c1e-bb92-ac71d1c8f8fc"
      },
      "execution_count": 69,
      "outputs": [
        {
          "output_type": "execute_result",
          "data": {
            "text/plain": [
              "(50, 785)"
            ]
          },
          "metadata": {},
          "execution_count": 69
        }
      ]
    },
    {
      "cell_type": "code",
      "source": [
        "testing_target = testing_df.iloc[:,0]\n",
        "testing_features = testing_df.drop(columns='label')"
      ],
      "metadata": {
        "id": "FTIH9vSnsBM4"
      },
      "execution_count": 70,
      "outputs": []
    },
    {
      "cell_type": "code",
      "source": [
        "def calculate_distance(cord1:np.ndarray, cord2:np.ndarray):\n",
        "  sub =  cord2 - cord1\n",
        "  return m.sqrt(np.sum(sub**2))"
      ],
      "metadata": {
        "id": "9g1zhI-lMfoW"
      },
      "execution_count": 92,
      "outputs": []
    },
    {
      "cell_type": "code",
      "source": [
        "def find_k_neighbors(tuple:pd.Series, k:int, set_of_neighbors):\n",
        "  for i in range(training_df.shape[0]):\n",
        "    data = training_df.loc[i][1:]\n",
        "    distance = calculate_distance(tuple.to_numpy(), data.to_numpy())\n",
        "    if(len(set_of_neighbors) < k):\n",
        "      set_of_neighbors[str(i)] = distance\n",
        "    else:\n",
        "      max_key = max(set_of_neighbors, key=lambda k: set_of_neighbors[k])\n",
        "      if(distance < set_of_neighbors[max_key]):\n",
        "        del set_of_neighbors[max_key]\n",
        "        set_of_neighbors[str(i)] = distance\n",
        "  return set_of_neighbors"
      ],
      "metadata": {
        "id": "lU3Dc2C1zBNi"
      },
      "execution_count": 112,
      "outputs": []
    },
    {
      "cell_type": "code",
      "source": [
        "def find_class_weighted_voting(set_of_neighbors):\n",
        "  class_vote = {}\n",
        "  for key in set_of_neighbors:\n",
        "    index = int(key)\n",
        "    actual_class = training_df.loc[index][0]\n",
        "    if(class_vote.get(actual_class)):\n",
        "      class_vote[actual_class] = class_vote.get(actual_class) + 1/set_of_neighbors[key]\n",
        "    else:\n",
        "      class_vote[actual_class] = 1/set_of_neighbors[key]\n",
        "  max_voted_class = max(class_vote, key=lambda k: class_vote[k])\n",
        "  return max_voted_class"
      ],
      "metadata": {
        "id": "19vX5-D0Teit"
      },
      "execution_count": 113,
      "outputs": []
    },
    {
      "cell_type": "code",
      "source": [
        "correctly_classified = 0\n",
        "k = 10\n",
        "print(\"K = \", k)\n",
        "for i in range(testing_features.shape[0]):\n",
        "  set_of_neighbors = {}\n",
        "  data_to_classify = testing_features.loc[i]\n",
        "  set_of_neighbors = find_k_neighbors(data_to_classify, k, set_of_neighbors)\n",
        "  predicted_class = find_class_weighted_voting(set_of_neighbors)\n",
        "  print(\"Desired class: \" , testing_target[i] , \" computed class \" , predicted_class)\n",
        "  if(testing_target[i] == predicted_class):\n",
        "    correctly_classified = correctly_classified + 1\n",
        "\n",
        "\n",
        "print(\"accuracy rate: \", (correctly_classified/testing_features.shape[0])*100, '%'  )\n",
        "print(\"Number of misclassified test samples: \", testing_features.shape[0] - correctly_classified )\n",
        "print(\"Total number of test samples: \", testing_features.shape[0] )\n",
        "\n"
      ],
      "metadata": {
        "colab": {
          "base_uri": "https://localhost:8080/"
        },
        "id": "dCoRZLaMSeoM",
        "outputId": "483650fc-13a2-4c6e-c541-62f0ba4832c9"
      },
      "execution_count": 119,
      "outputs": [
        {
          "output_type": "stream",
          "name": "stdout",
          "text": [
            "K =  10\n",
            "Desired class:  0  computed class  0\n",
            "Desired class:  0  computed class  0\n",
            "Desired class:  0  computed class  0\n",
            "Desired class:  0  computed class  0\n",
            "Desired class:  0  computed class  0\n",
            "Desired class:  1  computed class  1\n",
            "Desired class:  1  computed class  1\n",
            "Desired class:  1  computed class  1\n",
            "Desired class:  1  computed class  1\n",
            "Desired class:  1  computed class  1\n",
            "Desired class:  2  computed class  8\n",
            "Desired class:  2  computed class  2\n",
            "Desired class:  2  computed class  2\n",
            "Desired class:  2  computed class  6\n",
            "Desired class:  2  computed class  2\n",
            "Desired class:  3  computed class  9\n",
            "Desired class:  3  computed class  3\n",
            "Desired class:  3  computed class  3\n",
            "Desired class:  3  computed class  3\n",
            "Desired class:  3  computed class  3\n",
            "Desired class:  4  computed class  4\n",
            "Desired class:  4  computed class  4\n",
            "Desired class:  4  computed class  4\n",
            "Desired class:  4  computed class  4\n",
            "Desired class:  4  computed class  9\n",
            "Desired class:  5  computed class  5\n",
            "Desired class:  5  computed class  6\n",
            "Desired class:  5  computed class  5\n",
            "Desired class:  5  computed class  5\n",
            "Desired class:  5  computed class  5\n",
            "Desired class:  6  computed class  6\n",
            "Desired class:  6  computed class  6\n",
            "Desired class:  6  computed class  6\n",
            "Desired class:  6  computed class  6\n",
            "Desired class:  6  computed class  6\n",
            "Desired class:  7  computed class  7\n",
            "Desired class:  7  computed class  7\n",
            "Desired class:  7  computed class  7\n",
            "Desired class:  7  computed class  7\n",
            "Desired class:  7  computed class  7\n",
            "Desired class:  8  computed class  8\n",
            "Desired class:  8  computed class  8\n",
            "Desired class:  8  computed class  8\n",
            "Desired class:  8  computed class  8\n",
            "Desired class:  8  computed class  8\n",
            "Desired class:  9  computed class  9\n",
            "Desired class:  9  computed class  7\n",
            "Desired class:  9  computed class  9\n",
            "Desired class:  9  computed class  9\n",
            "Desired class:  9  computed class  9\n",
            "accuracy rate:  88.0 %\n",
            "Number of misclassified test samples:  6\n",
            "Total number of test samples:  50\n"
          ]
        }
      ]
    }
  ]
}